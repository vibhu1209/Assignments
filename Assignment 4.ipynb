{
 "cells": [
  {
   "cell_type": "markdown",
   "metadata": {},
   "source": [
    "# Assignment 4"
   ]
  },
  {
   "cell_type": "markdown",
   "metadata": {},
   "source": [
    "1.1 Write a Python Program(with class concepts) to find the area of the triangle using the below\n",
    "formula.\n",
    "area = (s*(s-a)*(s-b)*(s-c)) ** 0.5\n",
    "Function to take the length of the sides of triangle from user should be defined in the parent\n",
    "class and function to calculate the area should be defined in subclass.\n"
   ]
  },
  {
   "cell_type": "code",
   "execution_count": 6,
   "metadata": {},
   "outputs": [
    {
     "name": "stdout",
     "output_type": "stream",
     "text": [
      "side 1 5\n",
      "side 2 5\n",
      "side 3 6\n",
      "s is 8.0 and Area is 12.0 \n"
     ]
    }
   ],
   "source": [
    "class Sides:\n",
    "    def __init__(x):\n",
    "        x.a =int(input(\"side 1 \"))\n",
    "        x.b =int(input(\"side 2 \"))\n",
    "        x.c =int(input(\"side 3 \"))\n",
    "class Triangle(Sides):\n",
    "    def __init__(self, *args):\n",
    "        super(Triangle, self).__init__(*args)\n",
    "    def area(self):\n",
    "        s=(self.a+self.b+self.c)/2\n",
    "        Area= (s*(s-self.a)*(s-self.b)*(s-self.c))**(0.5)\n",
    "        return s,Area\n",
    "        \n",
    "        \n",
    "result = Triangle()\n",
    "print(\"s is {} and Area is {} \".format(result.area()[0],result.area()[1]))\n",
    "\n"
   ]
  },
  {
   "cell_type": "markdown",
   "metadata": {},
   "source": [
    "1.2 Write a function filter_long_words() that takes a list of words and an integer n and returns\n",
    "the list of words that are longer than n."
   ]
  },
  {
   "cell_type": "code",
   "execution_count": 7,
   "metadata": {},
   "outputs": [
    {
     "name": "stdout",
     "output_type": "stream",
     "text": [
      "enter list of words - df,edq,dewt\n",
      "enter integer n- 2\n",
      "list of words longer than 2 are  ['edq', 'dewt']\n"
     ]
    }
   ],
   "source": [
    "#Ans:\n",
    "def filter_long_words():\n",
    "    j=input(\"enter list of words - \")\n",
    "    b=[]\n",
    "    n=int(input(\"enter integer n- \"))\n",
    "    b=j.split(',')\n",
    "    \n",
    "    c=[i for i in b if len(i)>n]\n",
    "    if c==[]:\n",
    "        k=0\n",
    "        return n,k\n",
    "    else:\n",
    "        return n,c\n",
    "    \n",
    "d=filter_long_words()\n",
    "print(\"list of words longer than {} are \".format(d[0]),d[1])"
   ]
  },
  {
   "cell_type": "markdown",
   "metadata": {},
   "source": [
    "2.1 Write a Python program using function concept that maps list of words into a list of integers representing the lengths of the corresponding words . Hint: If a list [ ab,cde,erty] is passed on to the python function output should come as [2,3,4] Here 2,3 and 4 are the lengths of the words in the list."
   ]
  },
  {
   "cell_type": "code",
   "execution_count": 4,
   "metadata": {},
   "outputs": [
    {
     "name": "stdout",
     "output_type": "stream",
     "text": [
      "enter words--hjfhj,kj\n",
      "['hjfhj', 'kj']\n",
      "[5, 2]\n"
     ]
    }
   ],
   "source": [
    "#Ans:\n",
    "\n",
    "def length(r):\n",
    "    b=[]\n",
    "    b=r.split(',')\n",
    "    print(b)\n",
    "    c=[len(i) for i in b] \n",
    "    return c\n",
    "\n",
    "x=input(\"enter words--\")\n",
    "v=length(x)\n",
    "print(v)"
   ]
  },
  {
   "cell_type": "markdown",
   "metadata": {},
   "source": [
    "2.2\n",
    "Write a Python function which takes a character (i.e. a string of length 1) and returns True if it is\n",
    "a vowel, False otherwise."
   ]
  },
  {
   "cell_type": "code",
   "execution_count": 5,
   "metadata": {},
   "outputs": [
    {
     "name": "stdout",
     "output_type": "stream",
     "text": [
      "entr char-s\n",
      "result - False\n"
     ]
    }
   ],
   "source": [
    "def check_vowel():\n",
    "    j=input(\"entr char-\")\n",
    "    vow= ['a','e','i','o','u']\n",
    "    if j in vow:\n",
    "        return True\n",
    "    else:\n",
    "        return False\n",
    "d=check_vowel()\n",
    "print(\"result -\",d)"
   ]
  },
  {
   "cell_type": "code",
   "execution_count": null,
   "metadata": {},
   "outputs": [],
   "source": []
  }
 ],
 "metadata": {
  "kernelspec": {
   "display_name": "Python 3",
   "language": "python",
   "name": "python3"
  },
  "language_info": {
   "codemirror_mode": {
    "name": "ipython",
    "version": 3
   },
   "file_extension": ".py",
   "mimetype": "text/x-python",
   "name": "python",
   "nbconvert_exporter": "python",
   "pygments_lexer": "ipython3",
   "version": "3.7.4"
  }
 },
 "nbformat": 4,
 "nbformat_minor": 2
}
